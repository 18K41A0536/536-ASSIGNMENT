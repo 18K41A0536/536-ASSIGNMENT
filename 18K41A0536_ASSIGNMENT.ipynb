{
  "nbformat": 4,
  "nbformat_minor": 0,
  "metadata": {
    "colab": {
      "name": "18K41A0536-ASSIGNMENT.ipynb",
      "provenance": [],
      "authorship_tag": "ABX9TyPr7qwgi3+HW8nWYs/ZpbXq",
      "include_colab_link": true
    },
    "kernelspec": {
      "name": "python3",
      "display_name": "Python 3"
    }
  },
  "cells": [
    {
      "cell_type": "markdown",
      "metadata": {
        "id": "view-in-github",
        "colab_type": "text"
      },
      "source": [
        "<a href=\"https://colab.research.google.com/github/18K41A0536/536-ASSIGNMENT/blob/master/18K41A0536_ASSIGNMENT.ipynb\" target=\"_parent\"><img src=\"https://colab.research.google.com/assets/colab-badge.svg\" alt=\"Open In Colab\"/></a>"
      ]
    },
    {
      "cell_type": "code",
      "metadata": {
        "id": "9dcTU4wZSMPG",
        "colab_type": "code",
        "colab": {
          "base_uri": "https://localhost:8080/",
          "height": 51
        },
        "outputId": "87745df3-de73-4bb8-e42e-2beb24f4830e"
      },
      "source": [
        "year=int(input(\"enter the year \"))\n",
        "if year%12==0:\n",
        "    print(\"Monkey\")\n",
        "elif year%12==1:\n",
        "    print(\"Rooster\")\n",
        "elif year%12==2:\n",
        "    print(\"Dog\")\n",
        "elif year%12==3:\n",
        "    print(\"pig\")\n",
        "elif year%12==4:\n",
        "    print(\"Rat\")\n",
        "elif year%12==5:\n",
        "    print(\"ox\")\n",
        "elif year%12==6:\n",
        "    print(\"Tiger\")\n",
        "elif year%12==7:\n",
        "    print(\"Rabbit\")\n",
        "elif year%12==8:\n",
        "    print(\"Dragon\")\n",
        "elif year%12==9:\n",
        "    print(\"Snake\")\n",
        "elif year%12==10:\n",
        "    print(\"Horse\")\n",
        "else:\n",
        "    print(\"Sheep\")"
      ],
      "execution_count": null,
      "outputs": [
        {
          "output_type": "stream",
          "text": [
            "enter the year 2016\n",
            "Monkey\n"
          ],
          "name": "stdout"
        }
      ]
    },
    {
      "cell_type": "markdown",
      "metadata": {
        "id": "GSw2c9f9_DG1",
        "colab_type": "text"
      },
      "source": [
        "A Quick Fox Transport Co. wants to develop an application for calculating amount based on distance and weight of goods. The charges (Amount) to be calculated as per rates given below. \n"
      ]
    },
    {
      "cell_type": "code",
      "metadata": {
        "id": "zhXnTK_feymz",
        "colab_type": "code",
        "colab": {
          "base_uri": "https://localhost:8080/",
          "height": 51
        },
        "outputId": "7610ba0c-3109-4440-a03f-84de64a0ca76"
      },
      "source": [
        "dist=int(input('enter distance:'))\n",
        "wt=int(input('enter weight:'))\n",
        "if dist>=500:\n",
        "    if wt>=100:\n",
        "        cost=5*dist\n",
        "    elif wt>=10 and wt<100:\n",
        "            cost=6*dist\n",
        "    else:\n",
        "        cost=7*dist\n",
        "else:\n",
        "    if wt>=100:\n",
        "        cost=8*dist\n",
        "    else:\n",
        "        cost=5*dist\n",
        "        print('charge of cost:',cost)    "
      ],
      "execution_count": 8,
      "outputs": [
        {
          "output_type": "stream",
          "text": [
            "enter  the distance 600\n",
            "enter weight 50\n"
          ],
          "name": "stdout"
        }
      ]
    },
    {
      "cell_type": "markdown",
      "metadata": {
        "id": "XyygeAuTHFwN",
        "colab_type": "text"
      },
      "source": [
        "3.The Entertainment Paradise\n",
        "\n",
        " A theater in Delhi wants to develop a computerized Booking System. The theater offers different types of seats. The Ticket rates are- Stalls- Rs. 625/-, Circle- Rs.750/-, Upper Class- Rs.850/- and Box- Rs.1000/-. A discount is given 10% of total amount if tickets are purchased on Cash. In case of credit card holders 5% discount is given. \n",
        "Input: \tType of Seat: Circle    \n",
        "Payment mode: cash\n",
        "Output: Cost of ticket: 675\n"
      ]
    },
    {
      "cell_type": "code",
      "metadata": {
        "id": "ZtfeCXNnHGVO",
        "colab_type": "code",
        "colab": {
          "base_uri": "https://localhost:8080/",
          "height": 85
        },
        "outputId": "ec6ca409-61be-4691-874f-8a3ef5200c33"
      },
      "source": [
        "s=625\n",
        "c=750\n",
        "up=850\n",
        "b=100\n",
        "x=int(input('type of seat:'))\n",
        "print('do you pay through cash or card')\n",
        "y=str(input('payment mode:'))\n",
        "while y=='card':\n",
        "    z=x*5/100\n",
        "    cost=x-z\n",
        "    print('cost of ticket:',cost)\n",
        "else:    \n",
        "    if y=='cash':\n",
        "        w=x*10/100\n",
        "        cost=x-w\n",
        "        print('cost of ticket:',cost)"
      ],
      "execution_count": 9,
      "outputs": [
        {
          "output_type": "stream",
          "text": [
            "type of seat:700\n",
            "do you pay through cash or card\n",
            "payment mode:cash\n",
            "cost of ticket: 630.0\n"
          ],
          "name": "stdout"
        }
      ]
    },
    {
      "cell_type": "markdown",
      "metadata": {
        "id": "FJljN7yxHlIx",
        "colab_type": "text"
      },
      "source": [
        "4.Develop a program that calculates the energy needed to heat water from an initial temperature to a final temperature. Your program should prompt the user to enter the amount of water in kilograms and the initial and final temperatures of the water. The formula to compute the energy is \n",
        "Q = M * (finalTemperature – initialTemperature) * 4184.\n"
      ]
    },
    {
      "cell_type": "code",
      "metadata": {
        "id": "ixhfaXLEHljd",
        "colab_type": "code",
        "colab": {
          "base_uri": "https://localhost:8080/",
          "height": 85
        },
        "outputId": "b4580e6c-31cf-4d5a-c27e-e136d4506d26"
      },
      "source": [
        "initialTemperature=int(input(\"enter initial temperature:\"))\n",
        "finalTemperature=int(input(\"enter finial temperature:\"))\n",
        "M=int(input(\"enter water in kilo:\"))\n",
        "Q=M*(finalTemperature-initialTemperature)*4184\n",
        "print(Q)"
      ],
      "execution_count": 10,
      "outputs": [
        {
          "output_type": "stream",
          "text": [
            "enter initial temperature:46\n",
            "enter finial temperature:89\n",
            "enter water in kilo:5\n",
            "899560\n"
          ],
          "name": "stdout"
        }
      ]
    },
    {
      "cell_type": "markdown",
      "metadata": {
        "id": "RzYgzf9aR8T_",
        "colab_type": "text"
      },
      "source": [
        "5.Develop a program that prompts user to enter month and  print \n",
        "“Winter ” -   December ,January and February\n",
        "“Spring”  -   March ,April and May\n",
        "“Summer”  --- June ,July, August\n",
        "“Autumn ”  -- September ,October, November\n"
      ]
    },
    {
      "cell_type": "code",
      "metadata": {
        "id": "xYJCuEGKJ7Vx",
        "colab_type": "code",
        "colab": {
          "base_uri": "https://localhost:8080/",
          "height": 248
        },
        "outputId": "0107a0c1-2267-4f4c-ec05-cfbf2263835e"
      },
      "source": [
        "\n",
        "month=str(input(\"enter month\"))\n",
        "if month==december or january or febraury:\n",
        "    print(\"winter\")\n",
        "elif month==march or april or may:\n",
        "    print(\"spring\")\n",
        "elif month==june or july or august:\n",
        "    print(\"summer\")\n",
        "else:\n",
        "    print(\"autum\")"
      ],
      "execution_count": 23,
      "outputs": [
        {
          "output_type": "stream",
          "text": [
            "enter monthdecember\n"
          ],
          "name": "stdout"
        },
        {
          "output_type": "error",
          "ename": "NameError",
          "evalue": "ignored",
          "traceback": [
            "\u001b[0;31m---------------------------------------------------------------------------\u001b[0m",
            "\u001b[0;31mNameError\u001b[0m                                 Traceback (most recent call last)",
            "\u001b[0;32m<ipython-input-23-dcf5f1a1335e>\u001b[0m in \u001b[0;36m<module>\u001b[0;34m()\u001b[0m\n\u001b[1;32m      1\u001b[0m \u001b[0;34m\u001b[0m\u001b[0m\n\u001b[1;32m      2\u001b[0m \u001b[0mmonth\u001b[0m\u001b[0;34m=\u001b[0m\u001b[0mstr\u001b[0m\u001b[0;34m(\u001b[0m\u001b[0minput\u001b[0m\u001b[0;34m(\u001b[0m\u001b[0;34m\"enter month\"\u001b[0m\u001b[0;34m)\u001b[0m\u001b[0;34m)\u001b[0m\u001b[0;34m\u001b[0m\u001b[0;34m\u001b[0m\u001b[0m\n\u001b[0;32m----> 3\u001b[0;31m \u001b[0;32mif\u001b[0m \u001b[0mmonth\u001b[0m\u001b[0;34m==\u001b[0m\u001b[0mdecember\u001b[0m \u001b[0;32mor\u001b[0m \u001b[0mjanuary\u001b[0m \u001b[0;32mor\u001b[0m \u001b[0mfebraury\u001b[0m\u001b[0;34m:\u001b[0m\u001b[0;34m\u001b[0m\u001b[0;34m\u001b[0m\u001b[0m\n\u001b[0m\u001b[1;32m      4\u001b[0m     \u001b[0mprint\u001b[0m\u001b[0;34m(\u001b[0m\u001b[0;34m\"winter\"\u001b[0m\u001b[0;34m)\u001b[0m\u001b[0;34m\u001b[0m\u001b[0;34m\u001b[0m\u001b[0m\n\u001b[1;32m      5\u001b[0m \u001b[0;32melif\u001b[0m \u001b[0mmonth\u001b[0m\u001b[0;34m==\u001b[0m\u001b[0mmarch\u001b[0m \u001b[0;32mor\u001b[0m \u001b[0mapril\u001b[0m \u001b[0;32mor\u001b[0m \u001b[0mmay\u001b[0m\u001b[0;34m:\u001b[0m\u001b[0;34m\u001b[0m\u001b[0;34m\u001b[0m\u001b[0m\n",
            "\u001b[0;31mNameError\u001b[0m: name 'december' is not defined"
          ]
        }
      ]
    },
    {
      "cell_type": "markdown",
      "metadata": {
        "id": "Jsnri0I0LFty",
        "colab_type": "text"
      },
      "source": [
        "5.Develop a program that prompts user to enter month and  print \n",
        "“Winter ” -   December ,January and February\n",
        "“Spring”  -   March ,April and May\n",
        "“Summer”  --- June ,July, August\n",
        "“Autumn ”  -- September ,October, November\n"
      ]
    },
    {
      "cell_type": "code",
      "metadata": {
        "id": "VNnz8EVSLGWV",
        "colab_type": "code",
        "colab": {
          "base_uri": "https://localhost:8080/",
          "height": 51
        },
        "outputId": "4c0c25db-3ff4-46a9-bd56-d58cc8477d7f"
      },
      "source": [
        "M=int(input('enter month number:'))\n",
        "def season (M) : \n",
        "      \n",
        "    # Taken all the possible \n",
        "    # month numbers in the list. \n",
        "    list = [[12 , 1 , 2], [3 , 4 , 5],  \n",
        "             [6 , 7 , 8], [9 , 10 , 11]] \n",
        "               \n",
        "    # Matching the month number \n",
        "    # with the above list entries  \n",
        "    if M in list[0] : \n",
        "        print ( \"WINTER\" ) \n",
        "    elif M in list[1] : \n",
        "        print ( \"SPRING\" ) \n",
        "    elif M in list[2] : \n",
        "        print ( \"SUMMER\" ) \n",
        "    elif M in list[3] : \n",
        "        print ( \"AUTUMN\" ) \n",
        "    else : \n",
        "        print ( \"Invalid Month Number\" ) \n",
        "   \n",
        "#M = 5\n",
        "season ( M ) \n",
        "  \n",
        "#M = 10\n",
        "#print(\"For Month number:\", M); \n",
        "#season ( M ) \n",
        "\n",
        "\n"
      ],
      "execution_count": 26,
      "outputs": [
        {
          "output_type": "stream",
          "text": [
            "enter month number:12\n",
            "WINTER\n"
          ],
          "name": "stdout"
        }
      ]
    },
    {
      "cell_type": "markdown",
      "metadata": {
        "id": "kIApQ63_Tw10",
        "colab_type": "text"
      },
      "source": [
        "6.Body Mass Index\n"
      ]
    },
    {
      "cell_type": "code",
      "metadata": {
        "id": "DG1mrQT0TxzB",
        "colab_type": "code",
        "colab": {
          "base_uri": "https://localhost:8080/",
          "height": 68
        },
        "outputId": "fd52ea6b-ce94-481a-afb2-5fa98414f083"
      },
      "source": [
        "u_wt=int(input('enter your weight in pounds:'))\n",
        "u_ht=int(input('enter your height in inches:'))\n",
        "wt_kg=0.4535*u_wt\n",
        "ht_mt=0.0254*u_ht\n",
        "BMI=wt_kg/(ht_mt)*(ht_mt)\n",
        "BMI\n",
        "if BMI<18.5:\n",
        "    print('under weight')\n",
        "elif 18.5<=BMI<25.0:\n",
        "    print('Normal')\n",
        "elif 25.0<=BMI<30.0:\n",
        "    print('over weight')\n",
        "elif 30.0<=BMI:\n",
        "    print('obesity')"
      ],
      "execution_count": 29,
      "outputs": [
        {
          "output_type": "stream",
          "text": [
            "enter your weight in pounds:30\n",
            "enter your height in inches:50\n",
            "under weight\n"
          ],
          "name": "stdout"
        }
      ]
    },
    {
      "cell_type": "markdown",
      "metadata": {
        "id": "HlQ7BGuMVAVa",
        "colab_type": "text"
      },
      "source": [
        "7.Write a program that reads an integer between 100 and 1000 and adds all the digits in the integer \t(\tex: input 745 \t# output =16\t(7+4+5)\t)\n"
      ]
    },
    {
      "cell_type": "code",
      "metadata": {
        "id": "msKgPjgyVAzs",
        "colab_type": "code",
        "colab": {
          "base_uri": "https://localhost:8080/",
          "height": 51
        },
        "outputId": "275fbb78-e2c7-455a-c8da-b954a443f3fc"
      },
      "source": [
        "num=int(input('enter the number between 100 and 1000:'))\n",
        "sum=0\n",
        "if num>100 and num<=1000:\n",
        "    while num>0:\n",
        "        rem=num%10\n",
        "        sum=sum+rem\n",
        "        num=num//10\n",
        "    print(sum)"
      ],
      "execution_count": 36,
      "outputs": [
        {
          "output_type": "stream",
          "text": [
            "enter the number between 100 and 1000:536\n",
            "14\n"
          ],
          "name": "stdout"
        }
      ]
    },
    {
      "cell_type": "markdown",
      "metadata": {
        "id": "3EKL-Ax7VpC7",
        "colab_type": "text"
      },
      "source": [
        "8.Print all palindrome numbers between 1 to 1000.\n"
      ]
    },
    {
      "cell_type": "code",
      "metadata": {
        "id": "9lDLj9eYVpbI",
        "colab_type": "code",
        "colab": {
          "base_uri": "https://localhost:8080/",
          "height": 105
        },
        "outputId": "89060795-4f4a-40f8-d19b-62b9a7e896a3"
      },
      "source": [
        "max=int(input('enter the max value:'))\n",
        "min=int(input('enter the min value'))\n",
        "print('palindrome numbers bbetween %d and %d are:',(min,max))\n",
        "for num in range (min,max+1):\n",
        "    temp=num\n",
        "    rev=0\n",
        "    while temp>0:\n",
        "        rem=temp%10\n",
        "        rev=(rev*10)+rem\n",
        "        temp=temp//10\n",
        "    if num==rev:\n",
        "        print('%d'%num,end=' ')"
      ],
      "execution_count": 43,
      "outputs": [
        {
          "output_type": "stream",
          "text": [
            "enter the max value:1000\n",
            "enter the min value1\n",
            "palindrome numbers bbetween %d and %d are: (1, 1000)\n",
            "1 2 3 4 5 6 7 8 9 11 22 33 44 55 66 77 88 99 101 111 121 131 141 151 161 171 181 191 202 212 222 232 242 252 262 272 282 292 303 313 323 333 343 353 363 373 383 393 404 414 424 434 444 454 464 474 484 494 505 515 525 535 545 555 565 575 585 595 606 616 626 636 646 656 666 676 686 696 707 717 727 737 747 757 767 777 787 797 808 818 828 838 848 858 868 878 888 898 909 919 929 939 949 959 969 979 989 999 "
          ],
          "name": "stdout"
        }
      ]
    },
    {
      "cell_type": "markdown",
      "metadata": {
        "id": "2GWj58u0YzAk",
        "colab_type": "text"
      },
      "source": [
        "9.Print all Armstrong numbers between 1 to 1000."
      ]
    },
    {
      "cell_type": "code",
      "metadata": {
        "id": "RUubXLL0Yzlc",
        "colab_type": "code",
        "colab": {
          "base_uri": "https://localhost:8080/",
          "height": 136
        },
        "outputId": "854c9faf-6e19-41c5-87f3-c1e3487b5457"
      },
      "source": [
        "min=int(input('enter min range:'))\n",
        "max=int(input('enter max range'))\n",
        "for num in range(min,max+1):\n",
        "    sum=0\n",
        "    temp=num\n",
        "    while temp>0:\n",
        "        digit=temp%10\n",
        "        sum+=digit**3\n",
        "        temp//=10\n",
        "    if num==sum:\n",
        "        print(num)"
      ],
      "execution_count": 45,
      "outputs": [
        {
          "output_type": "stream",
          "text": [
            "enter min range:1\n",
            "enter max range1000\n",
            "1\n",
            "153\n",
            "370\n",
            "371\n",
            "407\n"
          ],
          "name": "stdout"
        }
      ]
    },
    {
      "cell_type": "markdown",
      "metadata": {
        "id": "Ef4aAumtZbPx",
        "colab_type": "text"
      },
      "source": [
        "10.Write a Java program which iterates the integers from 1 to 100. For multiples of three print \"Fizz\" instead of the number and print \"Buzz\" for the multiples of five. When number is divided by both three and five, print \"fizz buzz\".\n"
      ]
    },
    {
      "cell_type": "code",
      "metadata": {
        "id": "W-khGFIOZb8d",
        "colab_type": "code",
        "colab": {
          "base_uri": "https://localhost:8080/",
          "height": 1000
        },
        "outputId": "b000ac0a-3b68-4aec-b297-bf4ee2f12362"
      },
      "source": [
        " for fizzbuzz in range(100):  \n",
        "  \n",
        "    # number divisible by 3, print 'Fizz'  \n",
        "   \n",
        "    if fizzbuzz % 15 == 0:  \n",
        "        print(\"FizzBuzz\")                                          \n",
        "        continue\n",
        "  \n",
        "    # number divisible by 5, print 'Buzz' \n",
        "  \n",
        "    elif fizzbuzz % 3 == 0:      \n",
        "        print(\"Fizz\")                                          \n",
        "        continue\n",
        "  \n",
        "    # number divisible by 15 (divisible  \n",
        "    # by both 3 & 5), print 'FizzBuzz' \n",
        "  \n",
        "    elif fizzbuzz % 5 == 0:          \n",
        "        print(\"Buzz\")                                      \n",
        "        continue\n",
        "  \n",
        " \n",
        "    print(fizzbuzz) "
      ],
      "execution_count": 55,
      "outputs": [
        {
          "output_type": "stream",
          "text": [
            "FizzBuzz\n",
            "1\n",
            "2\n",
            "Fizz\n",
            "4\n",
            "Buzz\n",
            "Fizz\n",
            "7\n",
            "8\n",
            "Fizz\n",
            "Buzz\n",
            "11\n",
            "Fizz\n",
            "13\n",
            "14\n",
            "FizzBuzz\n",
            "16\n",
            "17\n",
            "Fizz\n",
            "19\n",
            "Buzz\n",
            "Fizz\n",
            "22\n",
            "23\n",
            "Fizz\n",
            "Buzz\n",
            "26\n",
            "Fizz\n",
            "28\n",
            "29\n",
            "FizzBuzz\n",
            "31\n",
            "32\n",
            "Fizz\n",
            "34\n",
            "Buzz\n",
            "Fizz\n",
            "37\n",
            "38\n",
            "Fizz\n",
            "Buzz\n",
            "41\n",
            "Fizz\n",
            "43\n",
            "44\n",
            "FizzBuzz\n",
            "46\n",
            "47\n",
            "Fizz\n",
            "49\n",
            "Buzz\n",
            "Fizz\n",
            "52\n",
            "53\n",
            "Fizz\n",
            "Buzz\n",
            "56\n",
            "Fizz\n",
            "58\n",
            "59\n",
            "FizzBuzz\n",
            "61\n",
            "62\n",
            "Fizz\n",
            "64\n",
            "Buzz\n",
            "Fizz\n",
            "67\n",
            "68\n",
            "Fizz\n",
            "Buzz\n",
            "71\n",
            "Fizz\n",
            "73\n",
            "74\n",
            "FizzBuzz\n",
            "76\n",
            "77\n",
            "Fizz\n",
            "79\n",
            "Buzz\n",
            "Fizz\n",
            "82\n",
            "83\n",
            "Fizz\n",
            "Buzz\n",
            "86\n",
            "Fizz\n",
            "88\n",
            "89\n",
            "FizzBuzz\n",
            "91\n",
            "92\n",
            "Fizz\n",
            "94\n",
            "Buzz\n",
            "Fizz\n",
            "97\n",
            "98\n",
            "Fizz\n"
          ],
          "name": "stdout"
        }
      ]
    },
    {
      "cell_type": "markdown",
      "metadata": {
        "id": "MUXnq9RxbMvI",
        "colab_type": "text"
      },
      "source": [
        "11.Spider Problem: A spider present at the bottom of the well of height H, needs to get out of it, using the slippery wall of the well. It decides to climb up the well; it goes up U meters and slips down D meters in one single step. So, in each step it covers (U-D) meters, and if the spider gets out of the well by covering U meters in the last step it doesn’t a slip back. For example, if the spider climbs up 5 meters and slips down by 3 meters in a single step, it covers (U - D) m in each step and 96 m in 48 steps, but in the 49th step it climbs up 5 m and reaches out of the well and it will not slip down and the step is counted as one step.     \n",
        "Input: Each test case will contain 3 integers ’H’ height of the well, next ’U’ meters climbs up in each step, and the last ’D’ meters slips down in each step.\n",
        "Output:  The number of steps 'N' required to get out of the well.\n",
        "Example 1:\n",
        " \tInput:\t\t\t\t\t\tOuput \n",
        "\t200 50 1\t\t\t\t\t    5\n",
        "\tExample 2:\n",
        " \tInput:\t\t\t\t\t\tOutput\n",
        "\t500 20 15\t\t\t\t\t   98\n",
        "\n",
        "\t\n",
        "\n"
      ]
    },
    {
      "cell_type": "code",
      "metadata": {
        "id": "W7e0NcFebNGY",
        "colab_type": "code",
        "colab": {
          "base_uri": "https://localhost:8080/",
          "height": 85
        },
        "outputId": "0680f35b-9da8-482b-879e-f285de99f8a8"
      },
      "source": [
        "h=int(input('enter height of well:'))\n",
        "u=int(input('enter meters he climbs in each step:'))\n",
        "d=int(input('enter meters slips down each step:'))\n",
        "if d>=u and h>u:\n",
        "        print(\"-1\")\n",
        "elif h<=u:\n",
        "    print(\"1\")\n",
        "else:\n",
        "    res=(h-u)//(u-d)\n",
        "    res=res+2\n",
        "print(res)"
      ],
      "execution_count": 56,
      "outputs": [
        {
          "output_type": "stream",
          "text": [
            "enter height of well:500\n",
            "enter meters he climbs in each step:20\n",
            "enter meters slips down each step:15\n",
            "98\n"
          ],
          "name": "stdout"
        }
      ]
    }
  ]
}